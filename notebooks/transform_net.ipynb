{
 "cells": [
  {
   "cell_type": "code",
   "execution_count": 32,
   "metadata": {
    "collapsed": true
   },
   "outputs": [],
   "source": [
    "import theano\n",
    "import theano.tensor as T\n",
    "import lasagne\n",
    "from lasagne.layers import InputLayer\n",
    "from lasagne.layers import NonlinearityLayer\n",
    "from lasagne.layers import ElemwiseSumLayer\n",
    "from lasagne.layers import ExpressionLayer\n",
    "from lasagne.layers import Pool2DLayer as PoolLayer\n",
    "from lasagne.layers import Conv2DLayer as ConvLayer\n",
    "from lasagne.init import Normal\n",
    "from lasagne.nonlinearities import linear, rectify, sigmoid"
   ]
  },
  {
   "cell_type": "code",
   "execution_count": 2,
   "metadata": {
    "collapsed": true
   },
   "outputs": [],
   "source": [
    "def reflect_pad(x, width, batch_ndim=1):\n",
    "    \"\"\"\n",
    "    Pad a tensor with a constant value.\n",
    "    Parameters\n",
    "    ----------\n",
    "    x : tensor\n",
    "    width : int, iterable of int, or iterable of tuple\n",
    "        Padding width. If an int, pads each axis symmetrically with the same\n",
    "        amount in the beginning and end. If an iterable of int, defines the\n",
    "        symmetric padding width separately for each axis. If an iterable of\n",
    "        tuples of two ints, defines a seperate padding width for each beginning\n",
    "        and end of each axis.\n",
    "    batch_ndim : integer\n",
    "        Dimensions before the value will not be padded.\n",
    "    \"\"\"\n",
    "    \n",
    "    # Idea for how to make this happen: Flip the tensor horizontally to grab horizontal values, then vertically to grab vertical values\n",
    "    # alternatively, just slice correctly\n",
    "    input_shape = x.shape\n",
    "    input_ndim = x.ndim\n",
    "\n",
    "    output_shape = list(input_shape)\n",
    "    indices = [slice(None) for _ in output_shape]\n",
    "\n",
    "    if isinstance(width, int):\n",
    "        widths = [width] * (input_ndim - batch_ndim)\n",
    "    else:\n",
    "        widths = width\n",
    "\n",
    "    for k, w in enumerate(widths):\n",
    "        try:\n",
    "            l, r = w\n",
    "        except TypeError:\n",
    "            l = r = w\n",
    "        output_shape[k + batch_ndim] += l + r\n",
    "        indices[k + batch_ndim] = slice(l, l + input_shape[k + batch_ndim])\n",
    "\n",
    "    # Create output array\n",
    "    out = T.zeros(output_shape)\n",
    "    \n",
    "    # Vertical Reflections\n",
    "    out=T.set_subtensor(out[:,:,:width,width:-width], x[:,:,width:0:-1,:])# out[:,:,:width,width:-width] = x[:,:,width:0:-1,:]\n",
    "    out=T.set_subtensor(out[:,:,-width:,width:-width], x[:,:,-2:-(2+width):-1,:])#out[:,:,-width:,width:-width] = x[:,:,-2:-(2+width):-1,:]\n",
    "    \n",
    "    # Place X in out\n",
    "    # out = T.set_subtensor(out[tuple(indices)], x) # or, alternative, out[width:-width,width:-width] = x\n",
    "    out=T.set_subtensor(out[:,:,width:-width,width:-width],x)#out[:,:,width:-width,width:-width] = x\n",
    "   \n",
    "   #Horizontal reflections\n",
    "    out=T.set_subtensor(out[:,:,:,:width],out[:,:,:,(2*width):width:-1])#out[:,:,:,:width] = out[:,:,:,(2*width):width:-1]\n",
    "    out=T.set_subtensor(out[:,:,:,-width:],out[:,:,:,-(width+2):-(2*width+2):-1])#out[:,:,:,-width:] = out[:,:,:,-(width+2):-(2*width+2):-1]\n",
    "    \n",
    "    \n",
    "    return out\n",
    "    \n",
    "class ReflectLayer(lasagne.layers.Layer):\n",
    "\n",
    "    def __init__(self, incoming, width, batch_ndim=2, **kwargs):\n",
    "        super(ReflectLayer, self).__init__(incoming, **kwargs)\n",
    "        self.width = width\n",
    "        self.batch_ndim = batch_ndim\n",
    "\n",
    "    def get_output_shape_for(self, input_shape):\n",
    "        output_shape = list(input_shape)\n",
    "\n",
    "        if isinstance(self.width, int):\n",
    "            widths = [self.width] * (len(input_shape) - self.batch_ndim)\n",
    "        else:\n",
    "            widths = self.width\n",
    "\n",
    "        for k, w in enumerate(widths):\n",
    "            if output_shape[k + self.batch_ndim] is None:\n",
    "                continue\n",
    "            else:\n",
    "                try:\n",
    "                    l, r = w\n",
    "                except TypeError:\n",
    "                    l = r = w\n",
    "                output_shape[k + self.batch_ndim] += l + r\n",
    "        return tuple(output_shape)\n",
    "\n",
    "    def get_output_for(self, input, **kwargs):\n",
    "        return reflect_pad(input, self.width, self.batch_ndim)"
   ]
  },
  {
   "cell_type": "code",
   "execution_count": 34,
   "metadata": {
    "collapsed": false
   },
   "outputs": [],
   "source": [
    "# TODO: Add normalization\n",
    "def style_conv_block(conv_in, num_filters, filter_size, stride, nonlinearity=rectify):\n",
    "    sc_network = ReflectLayer(conv_in, filter_size/2)\n",
    "    sc_network = ConvLayer(sc_network, num_filters, filter_size, stride, nonlinearity=nonlinearity, W=Normal())\n",
    "    return sc_network\n",
    "\n",
    "def residual_block(resnet_in, num_filters=None, filter_size=3, stride=1):\n",
    "    if num_filters == None:\n",
    "        num_filters = resnet_in.output_shape[1]\n",
    "\n",
    "    conv1 = style_conv_block(resnet_in, num_filters, filter_size, stride)\n",
    "    conv2 = style_conv_block(conv1, num_filters, filter_size, stride, linear)\n",
    "    res_block = ElemwiseSumLayer([conv2, resnet_in])\n",
    "\n",
    "    return res_block\n",
    "\n",
    "def nn_upsample(upsample_in, num_filters=None, filter_size=3, stride=1):\n",
    "    if num_filters == None:\n",
    "        num_filters = upsample_in.output_shape[1]\n",
    "\n",
    "    nn_network = ExpressionLayer(upsample_in, lambda X: X.repeat(2, 2).repeat(2, 3), output_shape='auto')\n",
    "    nn_network = style_conv_block(nn_network, num_filters, filter_size, stride)\n",
    "\n",
    "    return nn_network\n",
    "\n",
    "def transform_net(input_var=None):\n",
    "    network = InputLayer(shape=(None, 3, 256, 256), input_var=input_var)\n",
    "    network = style_conv_block(network, 32, 9, 1)\n",
    "    network = style_conv_block(network, 64, 9, 2)\n",
    "    network = style_conv_block(network, 128, 9, 2)\n",
    "    for _ in range(5):\n",
    "        network = residual_block(network)\n",
    "    network = nn_upsample(network)\n",
    "    network = nn_upsample(network)\n",
    "    network = style_conv_block(network, 3, 9, 1, sigmoid)\n",
    "    return network"
   ]
  },
  {
   "cell_type": "code",
   "execution_count": 43,
   "metadata": {
    "collapsed": false
   },
   "outputs": [
    {
     "name": "stdout",
     "output_type": "stream",
     "text": [
      "(None, 3, 256, 256) \t -> 0\n",
      "(None, 32, 256, 256) \t -> 7808\n",
      "(None, 64, 128, 128) \t -> 165952\n",
      "(None, 128, 64, 64) \t -> 663680\n",
      "(None, 128, 64, 64) \t -> 295168\n",
      "(None, 128, 64, 64) \t -> 295168\n",
      "(None, 128, 64, 64) \t -> 295168\n",
      "(None, 128, 64, 64) \t -> 295168\n",
      "(None, 128, 64, 64) \t -> 295168\n",
      "(None, 128, 128, 128) \t -> 147584\n",
      "(None, 128, 256, 256) \t -> 147584\n",
      "(None, 3, 256, 256) \t -> 31107\n"
     ]
    },
    {
     "data": {
      "text/plain": [
       "<lasagne.layers.conv.Conv2DLayer at 0x7f1786fbc9d0>"
      ]
     },
     "execution_count": 43,
     "metadata": {},
     "output_type": "execute_result"
    }
   ],
   "source": [
    "def transform_net_debug(input_var=None):\n",
    "    param_count = 0\n",
    "    network = InputLayer(shape=(None, 3, 256, 256), input_var=input_var)\n",
    "    print lasagne.layers.get_output_shape(network), '\\t ->', lasagne.layers.count_params(network, trainable=True) - param_count\n",
    "    param_count = lasagne.layers.count_params(network, trainable=True)\n",
    "    network = style_conv_block(network, 32, 9, 1)\n",
    "    print lasagne.layers.get_output_shape(network), '\\t ->', lasagne.layers.count_params(network, trainable=True) - param_count\n",
    "    param_count = lasagne.layers.count_params(network, trainable=True)\n",
    "    network = style_conv_block(network, 64, 9, 2)\n",
    "    print lasagne.layers.get_output_shape(network), '\\t ->', lasagne.layers.count_params(network, trainable=True) - param_count\n",
    "    param_count = lasagne.layers.count_params(network, trainable=True)\n",
    "    network = style_conv_block(network, 128, 9, 2)\n",
    "    print lasagne.layers.get_output_shape(network), '\\t ->', lasagne.layers.count_params(network, trainable=True) - param_count\n",
    "    param_count = lasagne.layers.count_params(network, trainable=True)\n",
    "    for _ in range(5):\n",
    "        network = residual_block(network)\n",
    "        print lasagne.layers.get_output_shape(network), '\\t ->', lasagne.layers.count_params(network, trainable=True) - param_count\n",
    "        param_count = lasagne.layers.count_params(network, trainable=True)\n",
    "    network = nn_upsample(network)\n",
    "    print lasagne.layers.get_output_shape(network), '\\t ->', lasagne.layers.count_params(network, trainable=True) - param_count\n",
    "    param_count = lasagne.layers.count_params(network, trainable=True)\n",
    "    network = nn_upsample(network)\n",
    "    print lasagne.layers.get_output_shape(network), '\\t ->', lasagne.layers.count_params(network, trainable=True) - param_count\n",
    "    param_count = lasagne.layers.count_params(network, trainable=True)\n",
    "    network = style_conv_block(network, 3, 9, 1, sigmoid)\n",
    "    print lasagne.layers.get_output_shape(network), '\\t ->', lasagne.layers.count_params(network, trainable=True) - param_count\n",
    "    param_count = lasagne.layers.count_params(network, trainable=True)\n",
    "    return network\n",
    "\n",
    "transform_net_debug()"
   ]
  },
  {
   "cell_type": "code",
   "execution_count": null,
   "metadata": {
    "collapsed": true
   },
   "outputs": [],
   "source": []
  }
 ],
 "metadata": {
  "kernelspec": {
   "display_name": "Python 2",
   "language": "python",
   "name": "python2"
  },
  "language_info": {
   "codemirror_mode": {
    "name": "ipython",
    "version": 2
   },
   "file_extension": ".py",
   "mimetype": "text/x-python",
   "name": "python",
   "nbconvert_exporter": "python",
   "pygments_lexer": "ipython2",
   "version": "2.7.12"
  }
 },
 "nbformat": 4,
 "nbformat_minor": 1
}
